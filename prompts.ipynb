{
  "nbformat": 4,
  "nbformat_minor": 0,
  "metadata": {
    "colab": {
      "provenance": [],
      "authorship_tag": "ABX9TyOXBSqlHP05UYVIfe36VhP+",
      "include_colab_link": true
    },
    "kernelspec": {
      "name": "python3",
      "display_name": "Python 3"
    },
    "language_info": {
      "name": "python"
    }
  },
  "cells": [
    {
      "cell_type": "markdown",
      "metadata": {
        "id": "view-in-github",
        "colab_type": "text"
      },
      "source": [
        "<a href=\"https://colab.research.google.com/github/Bhaviya22/Data-_science/blob/main/prompts.ipynb\" target=\"_parent\"><img src=\"https://colab.research.google.com/assets/colab-badge.svg\" alt=\"Open In Colab\"/></a>"
      ]
    },
    {
      "cell_type": "code",
      "execution_count": null,
      "metadata": {
        "id": "OyAoeZT5rW_5"
      },
      "outputs": [],
      "source": []
    },
    {
      "cell_type": "markdown",
      "source": [
        "**prompt-Instruction given by user to the model**\n",
        "\n",
        "\n",
        "promptTemplate(\n",
        "  input_variable=[],\n",
        "\n",
        "  template=staic_template\n",
        "\n",
        ")\n",
        "\n",
        "**question can be asked to model:**\n",
        "\n",
        "  chain of thoughts(cot)-step by step process\n",
        "\n",
        "  self-ask(ask sub-questions)-ask the question by the model itself\n",
        "\n",
        "  React (reasaoning+action)-working+answer like solving problem math\n",
        "\n",
        "  multi-turn memory prompts-keeps the prompt in memory\n",
        "\n",
        "  output parsers(json,table,bullet points)-based on the formats\n",
        "\n",
        "  guardrails(for safety and reliabilty)-\n"
      ],
      "metadata": {
        "id": "5k5wdDvwrX5n"
      }
    },
    {
      "cell_type": "markdown",
      "source": [
        "**classification of prompts :**\n",
        "\n",
        "zero shot-only do the action\n",
        "\n",
        "one shot-with example\n",
        "\n",
        "few shot -by giving the past data to give a new data\n",
        "\n",
        "instructional -by giving the instructions\n",
        "\n",
        "chain of thought-step by step process to model\n",
        "\n",
        "role based -based on the  role like if you are stiudent"
      ],
      "metadata": {
        "id": "_rqyrgF3sfqV"
      }
    },
    {
      "cell_type": "markdown",
      "source": [
        "**Two types of prompt**\n",
        "\n",
        "static\n",
        "\n",
        "dynamic"
      ],
      "metadata": {
        "id": "6V_4I8Oxu6td"
      }
    }
  ]
}